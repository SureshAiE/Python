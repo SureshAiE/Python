{
 "cells": [
  {
   "cell_type": "code",
   "execution_count": 4,
   "id": "cbbaacb4-efe6-4d12-8bb2-6aeb144c5b82",
   "metadata": {},
   "outputs": [],
   "source": [
    "#print 0 to 20 by using Range"
   ]
  },
  {
   "cell_type": "code",
   "execution_count": 5,
   "id": "ac510cce-9f7a-4483-98b6-4f7c38978462",
   "metadata": {},
   "outputs": [
    {
     "data": {
      "text/plain": [
       "range(0, 20)"
      ]
     },
     "execution_count": 5,
     "metadata": {},
     "output_type": "execute_result"
    }
   ],
   "source": [
    "range(0,20)"
   ]
  },
  {
   "cell_type": "code",
   "execution_count": 8,
   "id": "580ea946-f825-4b89-a946-c51557bf6248",
   "metadata": {},
   "outputs": [
    {
     "name": "stdout",
     "output_type": "stream",
     "text": [
      "0\n",
      "1\n",
      "2\n",
      "3\n",
      "4\n",
      "5\n",
      "6\n",
      "7\n",
      "8\n",
      "9\n",
      "10\n",
      "11\n",
      "12\n",
      "13\n",
      "14\n",
      "15\n",
      "16\n",
      "17\n",
      "18\n",
      "19\n"
     ]
    }
   ],
   "source": [
    "for num in range(0,20):\n",
    "    print(num)"
   ]
  },
  {
   "cell_type": "code",
   "execution_count": null,
   "id": "c4d27dec-beaf-49dc-8217-50458800fefe",
   "metadata": {},
   "outputs": [],
   "source": [
    "# print range 10 to 20"
   ]
  },
  {
   "cell_type": "code",
   "execution_count": 9,
   "id": "d0fa7157-b21d-400d-af0d-0a3cadeedb92",
   "metadata": {},
   "outputs": [
    {
     "data": {
      "text/plain": [
       "range(10, 20)"
      ]
     },
     "execution_count": 9,
     "metadata": {},
     "output_type": "execute_result"
    }
   ],
   "source": [
    "range(10,20)"
   ]
  },
  {
   "cell_type": "code",
   "execution_count": 10,
   "id": "73bdd2be-f117-4cbe-9e86-b68ad299ee08",
   "metadata": {},
   "outputs": [
    {
     "name": "stdout",
     "output_type": "stream",
     "text": [
      "10\n",
      "11\n",
      "12\n",
      "13\n",
      "14\n",
      "15\n",
      "16\n",
      "17\n",
      "18\n",
      "19\n"
     ]
    }
   ],
   "source": [
    "for num in range(10,20):\n",
    "    print(num)"
   ]
  },
  {
   "cell_type": "code",
   "execution_count": null,
   "id": "9b8b9bd0-02cc-4169-8e66-e87e3c37b7a3",
   "metadata": {},
   "outputs": [],
   "source": [
    "#TO find out Number of items in the lists"
   ]
  },
  {
   "cell_type": "code",
   "execution_count": 14,
   "id": "256879b0-1e0b-4990-a479-50a46a276df7",
   "metadata": {},
   "outputs": [],
   "source": [
    "lists=(10,20,14,55,43,87,76)"
   ]
  },
  {
   "cell_type": "code",
   "execution_count": 13,
   "id": "2c900fda-98ce-4265-8367-93512a92c744",
   "metadata": {},
   "outputs": [
    {
     "data": {
      "text/plain": [
       "7"
      ]
     },
     "execution_count": 13,
     "metadata": {},
     "output_type": "execute_result"
    }
   ],
   "source": [
    "len(lists)"
   ]
  },
  {
   "cell_type": "code",
   "execution_count": null,
   "id": "377492b1-14b8-431c-a32c-7dd76f86d327",
   "metadata": {},
   "outputs": [],
   "source": []
  },
  {
   "cell_type": "code",
   "execution_count": 62,
   "id": "f570ec3e-2fa0-48e5-991d-3eb209ec1cd4",
   "metadata": {},
   "outputs": [
    {
     "name": "stdout",
     "output_type": "stream",
     "text": [
      "Artificial Intelligence\n"
     ]
    }
   ],
   "source": [
    "print(\"Artificial Intelligence\")"
   ]
  },
  {
   "cell_type": "code",
   "execution_count": 37,
   "id": "802a3857-6f96-454e-8d23-a647cbae0b84",
   "metadata": {},
   "outputs": [
    {
     "name": "stdout",
     "output_type": "stream",
     "text": [
      "Artificial Intelligence\n",
      "A\n",
      "r\n",
      "t\n",
      "i\n",
      "f\n",
      "i\n",
      "c\n",
      "i\n",
      "a\n",
      "l\n",
      " \n",
      "I\n",
      "n\n",
      "t\n",
      "e\n",
      "l\n",
      "l\n",
      "i\n",
      "g\n",
      "e\n",
      "n\n",
      "c\n",
      "e\n"
     ]
    }
   ],
   "source": [
    "text=\"Artificial Intelligence\"\n",
    "print(text)\n",
    "for char in text:\n",
    "    print(char)\n",
    "    "
   ]
  },
  {
   "cell_type": "code",
   "execution_count": null,
   "id": "a0d43dd9-6f47-4a51-8987-b2cda1a6fa59",
   "metadata": {},
   "outputs": [],
   "source": []
  },
  {
   "cell_type": "code",
   "execution_count": 38,
   "id": "02ae79a0-20a1-4045-a6b7-1f2361241ba6",
   "metadata": {},
   "outputs": [
    {
     "name": "stdin",
     "output_type": "stream",
     "text": [
      "-Your Name- \n",
      "-Your Age_ \n",
      "-Your Profession- \n"
     ]
    },
    {
     "data": {
      "text/plain": [
       "''"
      ]
     },
     "execution_count": 38,
     "metadata": {},
     "output_type": "execute_result"
    }
   ],
   "source": [
    "input(\"-Your Name-\")\n",
    "input(\"-Your Age_\")\n",
    "input(\"-Your Profession-\")"
   ]
  },
  {
   "cell_type": "code",
   "execution_count": null,
   "id": "a29aef87-66a2-48fb-a496-48ec44842b45",
   "metadata": {},
   "outputs": [],
   "source": []
  },
  {
   "cell_type": "code",
   "execution_count": 40,
   "id": "3885866f-f9ff-45f1-b4fd-df5983cc5909",
   "metadata": {
    "scrolled": true
   },
   "outputs": [
    {
     "name": "stdout",
     "output_type": "stream",
     "text": [
      "The Mixed Data Type\n",
      "()\n"
     ]
    }
   ],
   "source": [
    "tuple=()\n",
    "print(\"The Mixed Data Type\")\n",
    "print(tuple)"
   ]
  },
  {
   "cell_type": "code",
   "execution_count": null,
   "id": "d9fde2b1-9bd7-4c65-88ed-2a2e20450e53",
   "metadata": {},
   "outputs": [],
   "source": [
    "#Print The Mixed Data Type"
   ]
  },
  {
   "cell_type": "code",
   "execution_count": 41,
   "id": "0464cc13-09ec-43f7-98c5-ffadc8c9c45f",
   "metadata": {},
   "outputs": [
    {
     "name": "stdout",
     "output_type": "stream",
     "text": [
      "The Mixed Data Type\n",
      "(1, 'Welcome', 2, 'Hope')\n"
     ]
    }
   ],
   "source": [
    "tuple=(1, 'Welcome', 2 , 'Hope')\n",
    "print(\"The Mixed Data Type\")\n",
    "print(tuple)"
   ]
  },
  {
   "cell_type": "code",
   "execution_count": null,
   "id": "c896366a-9af7-4db6-9ddf-dbe1c609d91b",
   "metadata": {},
   "outputs": [],
   "source": [
    "#Print Tuple with Nested Tuples"
   ]
  },
  {
   "cell_type": "code",
   "execution_count": 43,
   "id": "0033df20-f00f-42e7-83c4-4c13a2a7f992",
   "metadata": {
    "scrolled": true
   },
   "outputs": [
    {
     "name": "stdout",
     "output_type": "stream",
     "text": [
      "Tuple with Nested Tuples\n",
      "((0, 1, 2, 3), ('python', 'HOPE'))\n"
     ]
    }
   ],
   "source": [
    "tuple1=(0,1,2,3)\n",
    "tuple2=('python','HOPE')\n",
    "tuple3=(tuple1,tuple2)\n",
    "print(\"Tuple with Nested Tuples\")\n",
    "print(tuple3)"
   ]
  },
  {
   "cell_type": "code",
   "execution_count": null,
   "id": "61dcd83e-d607-459d-a058-5dd0f9a7bd78",
   "metadata": {},
   "outputs": [],
   "source": [
    "#Print Odd Numbers in the list"
   ]
  },
  {
   "cell_type": "code",
   "execution_count": 57,
   "id": "6725cb88-08a1-44fe-ab45-d8a22e9cfb5c",
   "metadata": {},
   "outputs": [
    {
     "name": "stdout",
     "output_type": "stream",
     "text": [
      "19 is Odd\n",
      "25 is Odd\n",
      "1 is Odd\n"
     ]
    }
   ],
   "source": [
    "lists=(20,10,16,19,25,1,276,188)\n",
    "for num in lists:\n",
    "    if(num%2==1):\n",
    "            print(num, \"is Odd\")"
   ]
  },
  {
   "cell_type": "code",
   "execution_count": 46,
   "id": "17d6323d-430a-4d23-a5dd-1288fa3c831b",
   "metadata": {},
   "outputs": [],
   "source": [
    "#Print the Even Number in the list"
   ]
  },
  {
   "cell_type": "code",
   "execution_count": 60,
   "id": "ad7f56f9-391a-4911-bf66-d830c0148a58",
   "metadata": {},
   "outputs": [
    {
     "name": "stdout",
     "output_type": "stream",
     "text": [
      "20 is Even \n",
      "10 is Even \n",
      "16 is Even \n",
      "276 is Even \n",
      "188 is Even \n"
     ]
    }
   ],
   "source": [
    "lists=(20,10,16,19,25,1,276,188)\n",
    "for num in lists:\n",
    "    if(num%2==0):\n",
    "        print(num, \"is Even \")"
   ]
  },
  {
   "cell_type": "code",
   "execution_count": null,
   "id": "b941f8af-c451-43bb-80c0-ceabe00b0751",
   "metadata": {},
   "outputs": [],
   "source": []
  }
 ],
 "metadata": {
  "kernelspec": {
   "display_name": "Python 3 (ipykernel)",
   "language": "python",
   "name": "python3"
  },
  "language_info": {
   "codemirror_mode": {
    "name": "ipython",
    "version": 3
   },
   "file_extension": ".py",
   "mimetype": "text/x-python",
   "name": "python",
   "nbconvert_exporter": "python",
   "pygments_lexer": "ipython3",
   "version": "3.12.4"
  }
 },
 "nbformat": 4,
 "nbformat_minor": 5
}
