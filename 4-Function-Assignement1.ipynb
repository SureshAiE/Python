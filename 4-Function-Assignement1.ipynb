{
 "cells": [
  {
   "cell_type": "code",
   "execution_count": null,
   "id": "4666ff59-d9a1-4860-9f58-f2d672e775dc",
   "metadata": {},
   "outputs": [],
   "source": [
    "# Create a class and function, and list out the items in the list"
   ]
  },
  {
   "cell_type": "code",
   "execution_count": 1,
   "id": "6e66e2d2-44b1-4887-bc96-8fa2780caa0b",
   "metadata": {},
   "outputs": [],
   "source": [
    "def subfields():\n",
    "    print(\"Sub-fields in AI are:\")\n",
    "    print(\"Machine Learning\")\n",
    "    print(\"Neural Networks\")\n",
    "    print(\"Vision\")\n",
    "    print(\"Robotics\")\n",
    "    print(\"Speech Processing\")\n",
    "    print(\"Natural Language Processing\")\n",
    "    return"
   ]
  },
  {
   "cell_type": "code",
   "execution_count": 103,
   "id": "b87631cd-eb5d-4c97-bded-419d0b55e05d",
   "metadata": {},
   "outputs": [
    {
     "name": "stdout",
     "output_type": "stream",
     "text": [
      "Sub-fields in AI are:\n",
      "Machine Learning\n",
      "Neural Networks\n",
      "Vision\n",
      "Robotics\n",
      "Speech Processing\n",
      "Natural Language Processing\n"
     ]
    }
   ],
   "source": [
    "aisf=subfields()"
   ]
  },
  {
   "cell_type": "code",
   "execution_count": 4,
   "id": "28a592a2-f7f9-4867-8a33-d072a3e5c084",
   "metadata": {},
   "outputs": [
    {
     "name": "stdout",
     "output_type": "stream",
     "text": [
      "Sub-fields in AI are:\n",
      "Machine Learning\n",
      "Neural Networks\n",
      "Vision\n",
      "Robotics\n",
      "Speech Processing\n",
      "Natural Language Processing\n"
     ]
    }
   ],
   "source": [
    "lists=[\"Machine Learning\",\"Neural Networks\",\"Vision\",\"Robotics\",\"Speech Processing\",\"Natural Language Processing\"]\n",
    "print(\"Sub-fields in AI are:\")\n",
    "for i in lists:\n",
    "    print(i)"
   ]
  },
  {
   "cell_type": "code",
   "execution_count": 1,
   "id": "38afdf0f-9021-40d5-8d01-0105ffe6f04c",
   "metadata": {},
   "outputs": [],
   "source": [
    "# Create a function that checks whether the given number is Odd or Even"
   ]
  },
  {
   "cell_type": "code",
   "execution_count": 19,
   "id": "2e44b7fd-320d-411c-98c3-8f2a803b99f6",
   "metadata": {},
   "outputs": [],
   "source": [
    "def OddEven():\n",
    "    num=int(input(\"Enter a Number\"))\n",
    "    if(num%2==1):\n",
    "        print(num, \"is Odd Number\")\n",
    "        OddEven=\"is Odd Number\"\n",
    "    else:\n",
    "        print(num, \"is Even Number\")\n",
    "        OddEven=\"is Even Number\"\n",
    "        return OddEven"
   ]
  },
  {
   "cell_type": "code",
   "execution_count": 20,
   "id": "1429e39b-3aad-4512-9564-9308ce6aa6a9",
   "metadata": {},
   "outputs": [
    {
     "name": "stdin",
     "output_type": "stream",
     "text": [
      "Enter a Number 52452\n"
     ]
    },
    {
     "name": "stdout",
     "output_type": "stream",
     "text": [
      "52452 is Even Number\n"
     ]
    },
    {
     "data": {
      "text/plain": [
       "'is Even Number'"
      ]
     },
     "execution_count": 20,
     "metadata": {},
     "output_type": "execute_result"
    }
   ],
   "source": [
    "OddEven()"
   ]
  },
  {
   "cell_type": "code",
   "execution_count": null,
   "id": "7617f6f0-902a-448f-b3d8-27ee052540fa",
   "metadata": {},
   "outputs": [],
   "source": []
  },
  {
   "cell_type": "code",
   "execution_count": 24,
   "id": "2a7ac628-c982-4c32-8647-a2575c05723e",
   "metadata": {},
   "outputs": [],
   "source": [
    "# Create a function that tells elegibility of marriage for male and female according to their age limit like 21 for male and 18 for female"
   ]
  },
  {
   "cell_type": "code",
   "execution_count": 57,
   "id": "7490d9d8-6538-4b15-85de-f2506e4b79f1",
   "metadata": {},
   "outputs": [],
   "source": [
    "def MaleEligibilityforMarriage():\n",
    "    gender=input(\"Your Gender:\")\n",
    "    age=int(input(\"Your Age:\"))\n",
    "    if(age>20):\n",
    "        print(\"ELIGIBLE\")\n",
    "        Message=\"ELIGIBLE\"\n",
    "    else:\n",
    "        print(\"NOT ELIGIBLE\")\n",
    "        Message=\"NOT ELIGIBLE\"\n",
    "        return Message"
   ]
  },
  {
   "cell_type": "code",
   "execution_count": 58,
   "id": "03d7d0f7-8346-4a2c-b6db-e6f5e88a9e8f",
   "metadata": {},
   "outputs": [
    {
     "name": "stdin",
     "output_type": "stream",
     "text": [
      "Your Gender: Male\n",
      "Your Age: 20\n"
     ]
    },
    {
     "name": "stdout",
     "output_type": "stream",
     "text": [
      "NOT ELIGIBLE\n"
     ]
    }
   ],
   "source": [
    "male=MaleEligibilityforMarriage()"
   ]
  },
  {
   "cell_type": "code",
   "execution_count": 56,
   "id": "47407945-f563-4d6a-aa26-27916a026962",
   "metadata": {},
   "outputs": [
    {
     "name": "stdout",
     "output_type": "stream",
     "text": [
      "NOT ELIGIBLE\n"
     ]
    }
   ],
   "source": [
    "print(male)"
   ]
  },
  {
   "cell_type": "code",
   "execution_count": null,
   "id": "d0dadbff-c657-42a8-933b-e6690d81e491",
   "metadata": {},
   "outputs": [],
   "source": []
  },
  {
   "cell_type": "code",
   "execution_count": 61,
   "id": "b25028c6-d2f9-44cc-9778-8933028fb3df",
   "metadata": {},
   "outputs": [],
   "source": [
    "def FeMaleEligibilityforMarriage():\n",
    "    gender=input(\"Your Gender:\")\n",
    "    age=int(input(\"Your Age:\"))\n",
    "    if(age>17):\n",
    "        print(\"ELIGIBLE\")\n",
    "        Message=\"ELIGIBLE\"\n",
    "    else:\n",
    "        print(\"NOT ELIGIBLE\")\n",
    "        Message=\"NOT ELIGIBLE\"\n",
    "        return Message\n",
    "        "
   ]
  },
  {
   "cell_type": "code",
   "execution_count": 62,
   "id": "7be7b842-d772-4693-81ea-b0247a1c03db",
   "metadata": {},
   "outputs": [
    {
     "name": "stdin",
     "output_type": "stream",
     "text": [
      "Your Gender: Female\n",
      "Your Age: 17\n"
     ]
    },
    {
     "name": "stdout",
     "output_type": "stream",
     "text": [
      "NOT ELIGIBLE\n"
     ]
    }
   ],
   "source": [
    "female=FeMaleEligibilityforMarriage()"
   ]
  },
  {
   "cell_type": "code",
   "execution_count": 48,
   "id": "cdc93eda-bbd0-449e-b535-24e6b673903d",
   "metadata": {},
   "outputs": [
    {
     "name": "stdout",
     "output_type": "stream",
     "text": [
      "Not Eligible\n"
     ]
    }
   ],
   "source": [
    "print(female)"
   ]
  },
  {
   "cell_type": "code",
   "execution_count": null,
   "id": "a46971be-849e-41b8-98f4-0f69eb1c7165",
   "metadata": {},
   "outputs": [],
   "source": []
  },
  {
   "cell_type": "code",
   "execution_count": 51,
   "id": "beed3ef3-03ca-413d-91d0-bdd374f5d3ab",
   "metadata": {},
   "outputs": [],
   "source": [
    "# calculate the percentage of your 10th mark"
   ]
  },
  {
   "cell_type": "code",
   "execution_count": 115,
   "id": "47957dd9-4c56-4de2-9843-5aa2a6480755",
   "metadata": {},
   "outputs": [],
   "source": [
    "    def percentage():\n",
    "        subject1=int(input(\"Subject1=\"))\n",
    "        subject2=int(input(\"Subject2=\"))\n",
    "        subject3=int(input(\"Subject3=\"))\n",
    "        subject4=int(input(\"Subject4=\"))\n",
    "        subject5=int(input(\"Subject5=\"))\n",
    "        subjects=(subject1,subject2,subject3,subject4,subject5)\n",
    "        t=(subject1+subject2+subject3+subject4+subject5)\n",
    "        print(\"Total : \",t)\n",
    "        p=(t/5)\n",
    "        print(\"Percentage : \",p)\n",
    "        TOP=\"Percentage Value\"\n",
    "        return TOP "
   ]
  },
  {
   "cell_type": "code",
   "execution_count": 116,
   "id": "ca6e8728-466b-4def-9f3e-0a0c6be96399",
   "metadata": {},
   "outputs": [
    {
     "name": "stdin",
     "output_type": "stream",
     "text": [
      "Subject1= 98\n",
      "Subject2= 87\n",
      "Subject3= 95\n",
      "Subject4= 95\n",
      "Subject5= 93\n"
     ]
    },
    {
     "name": "stdout",
     "output_type": "stream",
     "text": [
      "Total :  468\n",
      "Percentage :  93.6\n"
     ]
    }
   ],
   "source": [
    "toP=percentage()"
   ]
  },
  {
   "cell_type": "code",
   "execution_count": 85,
   "id": "d84459ca-e978-42fa-84b8-1000ba1c664b",
   "metadata": {},
   "outputs": [
    {
     "name": "stdout",
     "output_type": "stream",
     "text": [
      "Percentage Value\n"
     ]
    }
   ],
   "source": [
    "print(toP)"
   ]
  },
  {
   "cell_type": "code",
   "execution_count": 110,
   "id": "0f25343f-3201-493e-850a-c23906fa0cb0",
   "metadata": {},
   "outputs": [
    {
     "name": "stdin",
     "output_type": "stream",
     "text": [
      "Subject1= 98\n",
      "Subject2= 87\n",
      "Subject3= 95\n",
      "Subject4= 95\n",
      "Subject5= 93\n"
     ]
    },
    {
     "name": "stdout",
     "output_type": "stream",
     "text": [
      "Total :  468\n",
      "Percentage :  93.6\n"
     ]
    },
    {
     "data": {
      "text/plain": [
       "'Percentage Value'"
      ]
     },
     "execution_count": 110,
     "metadata": {},
     "output_type": "execute_result"
    }
   ],
   "source": [
    "FindPercent.total_Percentage()"
   ]
  },
  {
   "cell_type": "code",
   "execution_count": 86,
   "id": "26bbdb5a-aa4a-4987-9d70-88821c00283e",
   "metadata": {},
   "outputs": [],
   "source": [
    "#print area and perimeter of triangle using class and functions"
   ]
  },
  {
   "cell_type": "code",
   "execution_count": 90,
   "id": "5abe9dd4-a319-4727-8069-a99de7a6570d",
   "metadata": {},
   "outputs": [],
   "source": [
    "def triangle():\n",
    "    height=int(input(\"Height :\"))\n",
    "    breadth=int(input(\"Breadth :\"))\n",
    "    print(\"Area formula:Height*Breadth/2\")\n",
    "    aot=(height*breadth/2)\n",
    "    print(\"Area of Traiangle:\",aot)\n",
    "    msg=\"Area of Triangle\"\n",
    "    height1=int(input(\"Height1:\"))\n",
    "    height2=int(input(\"Height2:\"))\n",
    "    breadth=int(input(\"Breadth:\"))\n",
    "    print(\"Perimeter forumula: Height1+Height2+Breadth\")\n",
    "    pot=(height1+height2+breadth)\n",
    "    print(\"Perimeter of Triangle:\",pot)\n",
    "    msg=\"Perimeter of Triangle\"\n",
    "    return msg\n"
   ]
  },
  {
   "cell_type": "code",
   "execution_count": 93,
   "id": "da0f3cf2-8c60-4a1b-a775-0317f9b39d0a",
   "metadata": {},
   "outputs": [
    {
     "name": "stdin",
     "output_type": "stream",
     "text": [
      "Height : 32\n",
      "Breadth : 34\n"
     ]
    },
    {
     "name": "stdout",
     "output_type": "stream",
     "text": [
      "Area formula:Height*Breadth/2\n",
      "Area of Traiangle: 544.0\n"
     ]
    },
    {
     "name": "stdin",
     "output_type": "stream",
     "text": [
      "Height1: 2\n",
      "Height2: 4\n",
      "Breadth: 4\n"
     ]
    },
    {
     "name": "stdout",
     "output_type": "stream",
     "text": [
      "Perimeter forumula: Height1+Height2+Breadth\n",
      "Perimeter of Triangle: 10\n"
     ]
    }
   ],
   "source": [
    "measurement=triangle()"
   ]
  },
  {
   "cell_type": "code",
   "execution_count": 94,
   "id": "9b738d43-fc13-4a09-9893-e4cf824c120c",
   "metadata": {},
   "outputs": [
    {
     "name": "stdout",
     "output_type": "stream",
     "text": [
      "Perimeter of Triangle\n"
     ]
    }
   ],
   "source": [
    "print(measurement)"
   ]
  }
 ],
 "metadata": {
  "kernelspec": {
   "display_name": "Python 3 (ipykernel)",
   "language": "python",
   "name": "python3"
  },
  "language_info": {
   "codemirror_mode": {
    "name": "ipython",
    "version": 3
   },
   "file_extension": ".py",
   "mimetype": "text/x-python",
   "name": "python",
   "nbconvert_exporter": "python",
   "pygments_lexer": "ipython3",
   "version": "3.12.4"
  }
 },
 "nbformat": 4,
 "nbformat_minor": 5
}
