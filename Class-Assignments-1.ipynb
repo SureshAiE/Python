{
 "cells": [
  {
   "cell_type": "code",
   "execution_count": null,
   "id": "0279d937-7e56-40df-b825-bfd6d03602c0",
   "metadata": {},
   "outputs": [],
   "source": [
    "\n",
    "# Create a class and function, and list out the items in the list"
   ]
  },
  {
   "cell_type": "code",
   "execution_count": 30,
   "id": "268f8acf-7871-4c8e-a71f-052ed6653f50",
   "metadata": {},
   "outputs": [],
   "source": [
    "class SubfieldsInAI():\n",
    "    def subfields():\n",
    "        print(\"Sub-fields in AI are:\")\n",
    "        print(\"Machine Learning\")\n",
    "        print(\"Neural Networks\")\n",
    "        print(\"Vision\")\n",
    "        print(\"Robotics\")\n",
    "        print(\"Speech Processing\")\n",
    "        print(\"Natural Language Processing\")\n",
    "        return\n",
    "        \n"
   ]
  },
  {
   "cell_type": "code",
   "execution_count": 11,
   "id": "96af0e03-23e9-49ea-8619-90ba95f7ee56",
   "metadata": {},
   "outputs": [
    {
     "name": "stdout",
     "output_type": "stream",
     "text": [
      "Sub-fields in AI are:\n",
      "Machine Learning\n",
      "Neural Networks\n",
      "Vision\n",
      "Robotics\n",
      "Speech Processing\n",
      "Natural Language Processing\n"
     ]
    }
   ],
   "source": [
    " SubfieldsInAI.subfields()"
   ]
  },
  {
   "cell_type": "code",
   "execution_count": 37,
   "id": "66ac6a1a-c24b-4ed3-b963-d513390d336b",
   "metadata": {},
   "outputs": [],
   "source": [
    "lists=[\"Machine Learning\",\"Neural Networks\",\"Vision\",\"Robotics\",\"Speech Processing\",\"Natural Language Processing\"]\n",
    "class SubfieldsInAI():\n",
    "    def lists():\n",
    "        print(\"Sub-fields in AI are:\")\n",
    "        for text in lists:\n",
    "            print(text)\n",
    "            return lists "
   ]
  },
  {
   "cell_type": "code",
   "execution_count": 38,
   "id": "8be10b50-e9f9-480d-b7f5-cb0f3889b4f4",
   "metadata": {},
   "outputs": [
    {
     "name": "stdout",
     "output_type": "stream",
     "text": [
      "Sub-fields in AI are:\n",
      "Machine Learning\n"
     ]
    },
    {
     "data": {
      "text/plain": [
       "['Machine Learning',\n",
       " 'Neural Networks',\n",
       " 'Vision',\n",
       " 'Robotics',\n",
       " 'Speech Processing',\n",
       " 'Natural Language Processing']"
      ]
     },
     "execution_count": 38,
     "metadata": {},
     "output_type": "execute_result"
    }
   ],
   "source": [
    "SubfieldsInAI.lists()"
   ]
  },
  {
   "cell_type": "code",
   "execution_count": 13,
   "id": "a8689216-905a-4224-afe2-a2f64d3bdf6a",
   "metadata": {},
   "outputs": [
    {
     "name": "stdin",
     "output_type": "stream",
     "text": [
      "Enter a Number 52452\n"
     ]
    },
    {
     "name": "stdout",
     "output_type": "stream",
     "text": [
      "52452 is Even Number\n"
     ]
    },
    {
     "data": {
      "text/plain": [
       "'is Even Number'"
      ]
     },
     "execution_count": 13,
     "metadata": {},
     "output_type": "execute_result"
    }
   ],
   "source": [
    "OddEven.OddEven()"
   ]
  },
  {
   "cell_type": "code",
   "execution_count": 35,
   "id": "91214e91-a0f1-4a73-8465-fca7ecc6ca37",
   "metadata": {},
   "outputs": [],
   "source": [
    "class OddEven():\n",
    "    def OddEven():\n",
    "        num=int(input(\"Enter a Number\"))\n",
    "        if(num%2==1):\n",
    "            print(num, \"is Odd Number\")\n",
    "            OddEven=\"is Odd Number\"\n",
    "        else:\n",
    "            print(num, \"is Even Number\")\n",
    "            OddEven=\"is Even Number\"\n",
    "            return OddEven"
   ]
  },
  {
   "cell_type": "code",
   "execution_count": 34,
   "id": "8b71a175-d7c7-4f54-8ba5-7aa2421204b3",
   "metadata": {},
   "outputs": [],
   "source": [
    "class ElegiblityForMarriage():\n",
    "    def Elegible():\n",
    "        gender=input(\"Your Gender:\")\n",
    "        age=int(input(\"Your Age:\"))\n",
    "        if(age>20):\n",
    "            print(\"ELIGIBLE\")\n",
    "            Message=\"ELIGIBLE\"\n",
    "        else:\n",
    "            print(\"NOT ELIGIBLE\")\n",
    "            Message=\"NOT ELIGIBLE\"\n",
    "            return Message\n",
    "            \n",
    "class ElegiblityForMarriage():\n",
    "    def Elegible():\n",
    "        gender=input(\"Your Gender:\")\n",
    "        age=int(input(\"Your Age:\"))\n",
    "        if(age>17):\n",
    "            print(\"ELIGIBLE\")\n",
    "            Message=\"ELIGIBLE\"\n",
    "        else:\n",
    "            print(\"NOT ELIGIBLE\")\n",
    "            Message=\"NOT ELIGIBLE\"\n",
    "            return Message"
   ]
  },
  {
   "cell_type": "code",
   "execution_count": 21,
   "id": "6d902215-b405-44f8-ac01-9ce1e554b6c0",
   "metadata": {},
   "outputs": [
    {
     "name": "stdin",
     "output_type": "stream",
     "text": [
      "Your Gender: Male\n",
      "Your Age: 20\n"
     ]
    },
    {
     "name": "stdout",
     "output_type": "stream",
     "text": [
      "ELIGIBLE\n"
     ]
    }
   ],
   "source": [
    "ElegiblityForMarriage.Elegible()"
   ]
  },
  {
   "cell_type": "code",
   "execution_count": 33,
   "id": "cee61cd1-446c-4e17-8de3-f8be9119311c",
   "metadata": {},
   "outputs": [],
   "source": [
    "class FindPercent():\n",
    "    def percentage():\n",
    "        subject1=int(input(\"Subject1=\"))\n",
    "        subject2=int(input(\"Subject2=\"))\n",
    "        subject3=int(input(\"Subject3=\"))\n",
    "        subject4=int(input(\"Subject4=\"))\n",
    "        subject5=int(input(\"Subject5=\"))\n",
    "        subjects=(subject1,subject2,subject3,subject4,subject5)\n",
    "        t=(subject1+subject2+subject3+subject4+subject5)\n",
    "        print(\"Total : \",t)\n",
    "        p=(t/5)\n",
    "        print(\"Percentage : \",p)\n",
    "        TOP=\"Percentage Value\"\n",
    "        return TOP \n",
    "    "
   ]
  },
  {
   "cell_type": "code",
   "execution_count": 31,
   "id": "08dce5b4-4321-4527-a5a5-cfd0d715ebe1",
   "metadata": {},
   "outputs": [
    {
     "name": "stdin",
     "output_type": "stream",
     "text": [
      "Subject1= 98\n",
      "Subject2= 87\n",
      "Subject3= 95\n",
      "Subject4= 95\n",
      "Subject5= 93\n"
     ]
    },
    {
     "name": "stdout",
     "output_type": "stream",
     "text": [
      "Total :  468\n",
      "Percentage :  93.6\n"
     ]
    },
    {
     "data": {
      "text/plain": [
       "'Percentage Value'"
      ]
     },
     "execution_count": 31,
     "metadata": {},
     "output_type": "execute_result"
    }
   ],
   "source": [
    "FindPercent.percentage()"
   ]
  },
  {
   "cell_type": "code",
   "execution_count": 32,
   "id": "1c83364d-c075-4afc-ba47-bb1e6648cf04",
   "metadata": {},
   "outputs": [],
   "source": [
    "class triangle():    \n",
    "    def triangle():\n",
    "        height=int(input(\"Height :\"))\n",
    "        breadth=int(input(\"Breadth :\"))\n",
    "        print(\"Area formula:Height*Breadth/2\")\n",
    "        aot=(height*breadth/2)\n",
    "        print(\"Area of Traiangle:\",aot)\n",
    "        msg=\"Area of Triangle\"\n",
    "        height1=int(input(\"Height1:\"))\n",
    "        height2=int(input(\"Height2:\"))\n",
    "        breadth=int(input(\"Breadth:\"))\n",
    "        print(\"Perimeter forumula: Height1+Height2+Breadth\")\n",
    "        pot=(height1+height2+breadth)\n",
    "        print(\"Perimeter of Triangle:\",pot)\n",
    "        msg=\"Perimeter of Triangle\"\n",
    "        return msg\n"
   ]
  },
  {
   "cell_type": "code",
   "execution_count": 23,
   "id": "7cb8bf01-ccfa-4867-a53f-0c2050050359",
   "metadata": {},
   "outputs": [
    {
     "name": "stdin",
     "output_type": "stream",
     "text": [
      "Height : 32\n",
      "Breadth : 34\n"
     ]
    },
    {
     "name": "stdout",
     "output_type": "stream",
     "text": [
      "Area formula:Height*Breadth/2\n",
      "Area of Traiangle: 544.0\n"
     ]
    },
    {
     "name": "stdin",
     "output_type": "stream",
     "text": [
      "Height1: 2\n",
      "Height2: 2\n",
      "Breadth: 4\n"
     ]
    },
    {
     "name": "stdout",
     "output_type": "stream",
     "text": [
      "Perimeter forumula: Height1+Height2+Breadth\n",
      "Perimeter of Triangle: 8\n"
     ]
    },
    {
     "data": {
      "text/plain": [
       "'Perimeter of Triangle'"
      ]
     },
     "execution_count": 23,
     "metadata": {},
     "output_type": "execute_result"
    }
   ],
   "source": [
    "triangle.triangle()"
   ]
  },
  {
   "cell_type": "code",
   "execution_count": null,
   "id": "2fd200e1-41b3-446f-9d77-6de012176703",
   "metadata": {},
   "outputs": [],
   "source": []
  }
 ],
 "metadata": {
  "kernelspec": {
   "display_name": "Python 3 (ipykernel)",
   "language": "python",
   "name": "python3"
  },
  "language_info": {
   "codemirror_mode": {
    "name": "ipython",
    "version": 3
   },
   "file_extension": ".py",
   "mimetype": "text/x-python",
   "name": "python",
   "nbconvert_exporter": "python",
   "pygments_lexer": "ipython3",
   "version": "3.12.4"
  }
 },
 "nbformat": 4,
 "nbformat_minor": 5
}
