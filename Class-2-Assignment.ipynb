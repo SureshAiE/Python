{
 "cells": [
  {
   "cell_type": "code",
   "execution_count": 3,
   "id": "2b006427-0e58-4a0b-b7c2-0fd7cf57dcaf",
   "metadata": {},
   "outputs": [],
   "source": [
    "from classAssignments2 import multiAssignments"
   ]
  },
  {
   "cell_type": "code",
   "execution_count": 4,
   "id": "ce052816-3cc1-4cf9-8665-da71fa031395",
   "metadata": {},
   "outputs": [
    {
     "name": "stdin",
     "output_type": "stream",
     "text": [
      "Enter a Number 24\n"
     ]
    },
    {
     "name": "stdout",
     "output_type": "stream",
     "text": [
      "24 is Even Number\n"
     ]
    },
    {
     "data": {
      "text/plain": [
       "'is Even Number'"
      ]
     },
     "execution_count": 4,
     "metadata": {},
     "output_type": "execute_result"
    }
   ],
   "source": [
    "multiAssignments.OddEven()"
   ]
  },
  {
   "cell_type": "code",
   "execution_count": 5,
   "id": "8935d413-1a8e-46c9-8898-fcab04443b62",
   "metadata": {},
   "outputs": [
    {
     "name": "stdin",
     "output_type": "stream",
     "text": [
      "Your Gender: Male\n",
      "Your Age: 24\n"
     ]
    },
    {
     "name": "stdout",
     "output_type": "stream",
     "text": [
      "ELIGIBLE\n"
     ]
    }
   ],
   "source": [
    "multiAssignments.Elegible()"
   ]
  },
  {
   "cell_type": "code",
   "execution_count": 4,
   "id": "3e72dd24-f23b-474d-8666-21eff66cc209",
   "metadata": {},
   "outputs": [
    {
     "name": "stdin",
     "output_type": "stream",
     "text": [
      "Subject1= 98\n",
      "Subject2= 87\n",
      "Subject3= 95\n",
      "Subject4= 95\n",
      "Subject5= 93\n"
     ]
    },
    {
     "name": "stdout",
     "output_type": "stream",
     "text": [
      "Total :  468\n",
      "Percentage :  93.6\n"
     ]
    },
    {
     "data": {
      "text/plain": [
       "'Percentage Value'"
      ]
     },
     "execution_count": 4,
     "metadata": {},
     "output_type": "execute_result"
    }
   ],
   "source": [
    "multiAssignments.percentage()"
   ]
  },
  {
   "cell_type": "code",
   "execution_count": 5,
   "id": "2a36f5a4-3fe8-4cf8-9dfc-21aa50cddfb5",
   "metadata": {},
   "outputs": [
    {
     "name": "stdin",
     "output_type": "stream",
     "text": [
      "Height : 32\n",
      "Breadth : 34\n"
     ]
    },
    {
     "name": "stdout",
     "output_type": "stream",
     "text": [
      "Area formula:Height*Breadth/2\n",
      "Area of Traiangle: 544.0\n"
     ]
    },
    {
     "name": "stdin",
     "output_type": "stream",
     "text": [
      "Height1: 2\n",
      "Height2: 2\n",
      "Breadth: 4\n"
     ]
    },
    {
     "name": "stdout",
     "output_type": "stream",
     "text": [
      "Perimeter forumula: Height1+Height2+Breadth\n",
      "Perimeter of Triangle: 8\n"
     ]
    },
    {
     "data": {
      "text/plain": [
       "'Perimeter of Triangle'"
      ]
     },
     "execution_count": 5,
     "metadata": {},
     "output_type": "execute_result"
    }
   ],
   "source": [
    "multiAssignments.triangle()"
   ]
  },
  {
   "cell_type": "code",
   "execution_count": null,
   "id": "368ba912-242a-415b-83c8-042b6ae4d8f5",
   "metadata": {},
   "outputs": [],
   "source": []
  }
 ],
 "metadata": {
  "kernelspec": {
   "display_name": "Python 3 (ipykernel)",
   "language": "python",
   "name": "python3"
  },
  "language_info": {
   "codemirror_mode": {
    "name": "ipython",
    "version": 3
   },
   "file_extension": ".py",
   "mimetype": "text/x-python",
   "name": "python",
   "nbconvert_exporter": "python",
   "pygments_lexer": "ipython3",
   "version": "3.12.4"
  }
 },
 "nbformat": 4,
 "nbformat_minor": 5
}
