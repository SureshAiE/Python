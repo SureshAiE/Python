{
 "cells": [
  {
   "cell_type": "code",
   "execution_count": 1,
   "id": "92f6542a-fd4a-49b5-90af-bb42c0275703",
   "metadata": {},
   "outputs": [],
   "source": [
    "import pickle"
   ]
  },
  {
   "cell_type": "code",
   "execution_count": 2,
   "id": "9ed4fa04-3a23-45ba-96ad-289a264a30ac",
   "metadata": {},
   "outputs": [
    {
     "name": "stderr",
     "output_type": "stream",
     "text": [
      "C:\\Users\\Admin\\Anaconda\\Lib\\site-packages\\sklearn\\base.py:493: UserWarning: X does not have valid feature names, but RandomForestRegressor was fitted with feature names\n",
      "  warnings.warn(\n"
     ]
    }
   ],
   "source": [
    "loaded_model=pickle.load(open(\"finalized_model_RandomForest1.sav\",'rb'))\n",
    "result=loaded_model.predict([[68,38,2,True,False]])"
   ]
  },
  {
   "cell_type": "code",
   "execution_count": 3,
   "id": "82c5dfc3-a59b-4695-8601-452d43e334cb",
   "metadata": {},
   "outputs": [
    {
     "data": {
      "text/plain": [
       "array([15569.3159558])"
      ]
     },
     "execution_count": 3,
     "metadata": {},
     "output_type": "execute_result"
    }
   ],
   "source": [
    "result"
   ]
  },
  {
   "cell_type": "code",
   "execution_count": null,
   "id": "5e6319ed-c09d-45af-a0f9-4266c1bd6f3a",
   "metadata": {},
   "outputs": [],
   "source": []
  },
  {
   "cell_type": "code",
   "execution_count": 15,
   "id": "49203f52-4c73-4dda-94e8-5234b095fd1e",
   "metadata": {},
   "outputs": [
    {
     "name": "stderr",
     "output_type": "stream",
     "text": [
      "C:\\Users\\Admin\\Anaconda\\Lib\\site-packages\\sklearn\\base.py:493: UserWarning: X does not have valid feature names, but RandomForestRegressor was fitted with feature names\n",
      "  warnings.warn(\n"
     ]
    }
   ],
   "source": [
    "loaded_model=pickle.load(open(\"finalized_model_RandomForest1.sav\",'rb'))\n",
    "result=loaded_model.predict([[28,33,3,True,False]])"
   ]
  },
  {
   "cell_type": "code",
   "execution_count": 16,
   "id": "3377b469-6885-4599-b0d5-9e8de91fe28c",
   "metadata": {},
   "outputs": [
    {
     "data": {
      "text/plain": [
       "array([6222.5772008])"
      ]
     },
     "execution_count": 16,
     "metadata": {},
     "output_type": "execute_result"
    }
   ],
   "source": [
    "result"
   ]
  },
  {
   "cell_type": "code",
   "execution_count": null,
   "id": "18ea08f8-f69a-4c6f-aa9f-df583d745c27",
   "metadata": {},
   "outputs": [],
   "source": []
  }
 ],
 "metadata": {
  "kernelspec": {
   "display_name": "Python 3 (ipykernel)",
   "language": "python",
   "name": "python3"
  },
  "language_info": {
   "codemirror_mode": {
    "name": "ipython",
    "version": 3
   },
   "file_extension": ".py",
   "mimetype": "text/x-python",
   "name": "python",
   "nbconvert_exporter": "python",
   "pygments_lexer": "ipython3",
   "version": "3.12.4"
  }
 },
 "nbformat": 4,
 "nbformat_minor": 5
}
