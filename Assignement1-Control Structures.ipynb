{
 "cells": [
  {
   "cell_type": "code",
   "execution_count": 1,
   "id": "35989de0-ba5f-4bb4-9ce8-7b390ff9abde",
   "metadata": {},
   "outputs": [
    {
     "name": "stdout",
     "output_type": "stream",
     "text": [
      "Welcome to Assignement-1\n"
     ]
    }
   ],
   "source": [
    "print(\"Welcome to Assignement-1\")"
   ]
  },
  {
   "cell_type": "code",
   "execution_count": 2,
   "id": "fc1bfde3-52e1-46cf-acd4-5f6615decb86",
   "metadata": {},
   "outputs": [],
   "source": [
    "num1=10\n",
    "num2=30"
   ]
  },
  {
   "cell_type": "code",
   "execution_count": 3,
   "id": "56ef70d2-473a-42aa-9ef1-0c013effa94b",
   "metadata": {},
   "outputs": [],
   "source": [
    "add=num1+num2"
   ]
  },
  {
   "cell_type": "code",
   "execution_count": 4,
   "id": "d712324e-7b62-4fe3-b75a-a242cb4b0ad5",
   "metadata": {},
   "outputs": [
    {
     "name": "stdout",
     "output_type": "stream",
     "text": [
      "40\n"
     ]
    }
   ],
   "source": [
    "print(add)"
   ]
  },
  {
   "cell_type": "markdown",
   "id": "c015609a-6514-468d-97e2-183a7d62f278",
   "metadata": {},
   "source": [
    "#BMI Index\n",
    "#underweight :Less than 18.5Kg\n",
    "#Healthy weight:18.5 - 24.9Kg\n",
    "#Over weight : 24.9 - 29.9Kg\n",
    "#Very Over Weight: >29.9"
   ]
  },
  {
   "cell_type": "code",
   "execution_count": 13,
   "id": "07f75ac3-e325-42f7-8d3d-27f8aafd629e",
   "metadata": {},
   "outputs": [
    {
     "name": "stdin",
     "output_type": "stream",
     "text": [
      "Enter Your Weight 34\n"
     ]
    }
   ],
   "source": [
    "weight=int(input(\"Enter Your Weight\"))"
   ]
  },
  {
   "cell_type": "code",
   "execution_count": 14,
   "id": "61fbbb4c-bce3-4c01-9e6c-8c7bd1f7d876",
   "metadata": {},
   "outputs": [
    {
     "name": "stdout",
     "output_type": "stream",
     "text": [
      "Very Over Weight\n"
     ]
    }
   ],
   "source": [
    "if(weight<18.5):\n",
    "    print(\"Under Weight\")\n",
    "elif(weight<24.9):\n",
    "    print(\"Healthy Weight\")\n",
    "elif(weight<29.9):\n",
    "    print(\"Over Weight\")\n",
    "else:\n",
    "    print(\"Very Over Weight\")"
   ]
  },
  {
   "cell_type": "code",
   "execution_count": null,
   "id": "2649f12c-c427-44eb-97f6-d53145075e7a",
   "metadata": {},
   "outputs": [],
   "source": []
  }
 ],
 "metadata": {
  "kernelspec": {
   "display_name": "Python 3 (ipykernel)",
   "language": "python",
   "name": "python3"
  },
  "language_info": {
   "codemirror_mode": {
    "name": "ipython",
    "version": 3
   },
   "file_extension": ".py",
   "mimetype": "text/x-python",
   "name": "python",
   "nbconvert_exporter": "python",
   "pygments_lexer": "ipython3",
   "version": "3.12.4"
  }
 },
 "nbformat": 4,
 "nbformat_minor": 5
}
