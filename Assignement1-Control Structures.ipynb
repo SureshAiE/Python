{
 "cells": [
  {
   "cell_type": "code",
   "execution_count": 1,
   "id": "35989de0-ba5f-4bb4-9ce8-7b390ff9abde",
   "metadata": {},
   "outputs": [
    {
     "name": "stdout",
     "output_type": "stream",
     "text": [
      "Welcome to Assignement-1\n"
     ]
    }
   ],
   "source": [
    "print(\"Welcome to Assignement-1\")"
   ]
  },
  {
   "cell_type": "code",
   "execution_count": 3,
   "id": "fc1bfde3-52e1-46cf-acd4-5f6615decb86",
   "metadata": {},
   "outputs": [
    {
     "name": "stdin",
     "output_type": "stream",
     "text": [
      "Num1=  10\n",
      "Num2=  30\n"
     ]
    },
    {
     "name": "stdout",
     "output_type": "stream",
     "text": [
      "Add=  40\n"
     ]
    }
   ],
   "source": [
    "num1=int(input(\"Num1= \"))\n",
    "num2=int(input(\"Num2= \"))\n",
    "add=num1+num2\n",
    "print(\"Add= \",add)"
   ]
  },
  {
   "cell_type": "markdown",
   "id": "c015609a-6514-468d-97e2-183a7d62f278",
   "metadata": {},
   "source": [
    "#BMI Index\n",
    "#underweight :Less than 18.5Kg\n",
    "#Healthy weight:18.5 - 24.9Kg\n",
    "#Over weight : 24.9 - 29.9Kg\n",
    "#Very Over Weight: >29.9"
   ]
  },
  {
   "cell_type": "code",
   "execution_count": 5,
   "id": "61fbbb4c-bce3-4c01-9e6c-8c7bd1f7d876",
   "metadata": {},
   "outputs": [
    {
     "name": "stdin",
     "output_type": "stream",
     "text": [
      "Enter the BMI Index: 34\n"
     ]
    },
    {
     "name": "stdout",
     "output_type": "stream",
     "text": [
      "Very Over Weight\n"
     ]
    }
   ],
   "source": [
    "weight=int(input(\"Enter the BMI Index:\"))\n",
    "if(weight<18.5):\n",
    "    print(\"Under Weight\")\n",
    "elif(weight<24.9):\n",
    "    print(\"Healthy Weight\")\n",
    "elif(weight<29.9):\n",
    "    print(\"Over Weight\")\n",
    "else:\n",
    "    print(\"Very Over Weight\")"
   ]
  },
  {
   "cell_type": "code",
   "execution_count": null,
   "id": "2649f12c-c427-44eb-97f6-d53145075e7a",
   "metadata": {},
   "outputs": [],
   "source": []
  }
 ],
 "metadata": {
  "kernelspec": {
   "display_name": "Python 3 (ipykernel)",
   "language": "python",
   "name": "python3"
  },
  "language_info": {
   "codemirror_mode": {
    "name": "ipython",
    "version": 3
   },
   "file_extension": ".py",
   "mimetype": "text/x-python",
   "name": "python",
   "nbconvert_exporter": "python",
   "pygments_lexer": "ipython3",
   "version": "3.12.4"
  }
 },
 "nbformat": 4,
 "nbformat_minor": 5
}
