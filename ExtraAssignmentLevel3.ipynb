{
 "cells": [
  {
   "cell_type": "code",
   "execution_count": null,
   "id": "66a7d832-91df-46f8-9d06-c4df31ef5117",
   "metadata": {},
   "outputs": [],
   "source": [
    ": # print 'CORRECT' if i == 10"
   ]
  },
  {
   "cell_type": "code",
   "execution_count": 5,
   "id": "80963b95-6717-4c2c-8ba9-28fa5caa062a",
   "metadata": {},
   "outputs": [
    {
     "name": "stdin",
     "output_type": "stream",
     "text": [
      "Value: 10\n"
     ]
    },
    {
     "name": "stdout",
     "output_type": "stream",
     "text": [
      "CORRECT\n"
     ]
    }
   ],
   "source": [
    "i=int(input(\"Value:\"))\n",
    "if(i==10):\n",
    "    print(\"CORRECT\")"
   ]
  },
  {
   "cell_type": "code",
   "execution_count": 6,
   "id": "5887712b-d206-45c2-bc4d-eb022ad4c483",
   "metadata": {},
   "outputs": [],
   "source": [
    "# Check the password, using if and else"
   ]
  },
  {
   "cell_type": "code",
   "execution_count": 63,
   "id": "ee0e174e-0985-4ddb-8d7d-678e045eb780",
   "metadata": {},
   "outputs": [
    {
     "name": "stdin",
     "output_type": "stream",
     "text": [
      "Enter the Password HOPE@123\n"
     ]
    },
    {
     "name": "stdout",
     "output_type": "stream",
     "text": [
      "Your Password is Correct\n"
     ]
    }
   ],
   "source": [
    "correctPwd = \"HOPE@123\"\n",
    "userPwd=input(\"Enter the Password\")\n",
    "if userPwd==correctPwd:\n",
    "    print(\"Your Password is Correct\")\n",
    "else:\n",
    "    print(\"Your Password is Incorrect\")"
   ]
  },
  {
   "cell_type": "code",
   "execution_count": null,
   "id": "1ef07da3-fca5-4a5a-aac8-4913123e57ad",
   "metadata": {},
   "outputs": [],
   "source": [
    "# Catagory the people by their age like children, adult, citizen, senior citizen..."
   ]
  },
  {
   "cell_type": "code",
   "execution_count": 28,
   "id": "b4beffba-eb68-4e65-91dd-b3d31ddb3e79",
   "metadata": {},
   "outputs": [
    {
     "name": "stdin",
     "output_type": "stream",
     "text": [
      "Age 20\n"
     ]
    },
    {
     "name": "stdout",
     "output_type": "stream",
     "text": [
      "Adult\n"
     ]
    }
   ],
   "source": [
    "age=int(input(\"Age\"))\n",
    "if age<18:\n",
    "    print(\"Children\")\n",
    "elif age<35:\n",
    "    print(\"Adult\")\n",
    "elif age<59:\n",
    "    print(\"Citizen\")\n",
    "elif age>59:\n",
    "    print(\"Senior Citizen\")"
   ]
  },
  {
   "cell_type": "code",
   "execution_count": 29,
   "id": "4ab7a45f-e304-46d3-bfbe-42f446f996f5",
   "metadata": {},
   "outputs": [],
   "source": [
    "# Find whether given number is positive or negative"
   ]
  },
  {
   "cell_type": "code",
   "execution_count": 45,
   "id": "5c2456b5-e616-49c6-8888-0f48c4a5a849",
   "metadata": {},
   "outputs": [
    {
     "name": "stdin",
     "output_type": "stream",
     "text": [
      "Enter Any Number 1\n"
     ]
    },
    {
     "name": "stdout",
     "output_type": "stream",
     "text": [
      "Number is Positive\n"
     ]
    }
   ],
   "source": [
    "num=int(input(\"Enter Any Number:\"))\n",
    "if num>0:\n",
    "        print(\"Number is Positive\")\n",
    "elif num<0:\n",
    "    print(\"Number is Negative\")\n",
    "else:\n",
    "    print(\"Number is Zero\")        "
   ]
  },
  {
   "cell_type": "code",
   "execution_count": 46,
   "id": "2ae42f3a-e432-4dc0-a85c-fb5edecfe39e",
   "metadata": {},
   "outputs": [],
   "source": [
    "# Check whether the given number is divisible by 5"
   ]
  },
  {
   "cell_type": "code",
   "execution_count": 62,
   "id": "f519f902-c988-4a85-a70c-2f7ddebc5503",
   "metadata": {},
   "outputs": [
    {
     "name": "stdin",
     "output_type": "stream",
     "text": [
      "Enter a Number to Check: 22\n"
     ]
    },
    {
     "name": "stdout",
     "output_type": "stream",
     "text": [
      "Number is Not Divisible by 5\n"
     ]
    }
   ],
   "source": [
    "number=int(input(\"Enter a Number to Check:\"))\n",
    "if number % 5 == 0:\n",
    "    print(\"Number is divisible by 5\")\n",
    "else:\n",
    "    print(\"Number is Not Divisible by 5\")\n",
    "        "
   ]
  },
  {
   "cell_type": "code",
   "execution_count": null,
   "id": "279e87f8-0d6f-4595-8a73-33ee07f30bc2",
   "metadata": {},
   "outputs": [],
   "source": []
  }
 ],
 "metadata": {
  "kernelspec": {
   "display_name": "Python 3 (ipykernel)",
   "language": "python",
   "name": "python3"
  },
  "language_info": {
   "codemirror_mode": {
    "name": "ipython",
    "version": 3
   },
   "file_extension": ".py",
   "mimetype": "text/x-python",
   "name": "python",
   "nbconvert_exporter": "python",
   "pygments_lexer": "ipython3",
   "version": "3.12.4"
  }
 },
 "nbformat": 4,
 "nbformat_minor": 5
}
