{
 "cells": [
  {
   "cell_type": "code",
   "execution_count": 2,
   "id": "9678a0a5-326a-4619-a70f-346fd4748e5e",
   "metadata": {},
   "outputs": [
    {
     "name": "stdout",
     "output_type": "stream",
     "text": [
      "HOPE AI\n"
     ]
    }
   ],
   "source": [
    "print(\"HOPE AI\")"
   ]
  },
  {
   "cell_type": "code",
   "execution_count": 3,
   "id": "97ee4c1c-9383-412e-89bd-4f1eaa5dd5ee",
   "metadata": {},
   "outputs": [
    {
     "name": "stdin",
     "output_type": "stream",
     "text": [
      "Enter Your Institute Name? HOPE AI\n"
     ]
    },
    {
     "data": {
      "text/plain": [
       "'HOPE AI'"
      ]
     },
     "execution_count": 3,
     "metadata": {},
     "output_type": "execute_result"
    }
   ],
   "source": [
    "input(\"Enter Your Institute Name?\")"
   ]
  },
  {
   "cell_type": "code",
   "execution_count": 9,
   "id": "13d1c4a4-bc76-496b-afc3-09dc9785e893",
   "metadata": {
    "scrolled": true
   },
   "outputs": [
    {
     "name": "stdin",
     "output_type": "stream",
     "text": [
      "Enter Your Name: Raj\n",
      "Enter Your Age: 15\n",
      "Enter Your School Name: GURU SCHOOL\n",
      "Enter Your Degree: B.E CSE\n"
     ]
    },
    {
     "data": {
      "text/plain": [
       "'B.E CSE'"
      ]
     },
     "execution_count": 9,
     "metadata": {},
     "output_type": "execute_result"
    }
   ],
   "source": [
    "input(\"Enter Your Name:\")\n",
    "int(input(\"Enter Your Age:\"))\n",
    "input(\"Enter Your School Name:\")\n",
    "input(\"Enter Your Degree:\")"
   ]
  },
  {
   "cell_type": "code",
   "execution_count": 10,
   "id": "fb223c0d-2e3b-47fd-a540-8b322e2c1ad0",
   "metadata": {},
   "outputs": [
    {
     "name": "stdin",
     "output_type": "stream",
     "text": [
      "a= 43\n",
      "b= 34\n"
     ]
    },
    {
     "name": "stdout",
     "output_type": "stream",
     "text": [
      "add = 77\n"
     ]
    }
   ],
   "source": [
    "a=int(input(\"a=\"))\n",
    "b=int(input(\"b=\"))\n",
    "p=a+b\n",
    "print(\"add =\",p)"
   ]
  },
  {
   "cell_type": "code",
   "execution_count": 11,
   "id": "a4e4b53a-22ba-4fee-b992-83f058f0dcfe",
   "metadata": {},
   "outputs": [
    {
     "name": "stdin",
     "output_type": "stream",
     "text": [
      "a= 43\n",
      "b= 34\n"
     ]
    },
    {
     "name": "stdout",
     "output_type": "stream",
     "text": [
      "sub = 9\n"
     ]
    }
   ],
   "source": [
    "a=int(input(\"a=\"))\n",
    "b=int(input(\"b=\"))\n",
    "p=a-b\n",
    "print(\"sub =\",p)\n"
   ]
  },
  {
   "cell_type": "code",
   "execution_count": 14,
   "id": "a5852f06-3493-4d54-b573-e72ae01b11cf",
   "metadata": {},
   "outputs": [
    {
     "name": "stdin",
     "output_type": "stream",
     "text": [
      "a= 63\n",
      "b= 97\n"
     ]
    },
    {
     "name": "stdout",
     "output_type": "stream",
     "text": [
      "Mul = 6111\n"
     ]
    }
   ],
   "source": [
    "a=int(input(\"a=\"))\n",
    "b=int(input(\"b=\"))\n",
    "p=a*b\n",
    "print(\"Mul =\",p)"
   ]
  },
  {
   "cell_type": "code",
   "execution_count": 15,
   "id": "5421b63d-45c0-4ae2-8186-e2e548978272",
   "metadata": {},
   "outputs": [
    {
     "name": "stdin",
     "output_type": "stream",
     "text": [
      "a= 76\n",
      "b= 31\n"
     ]
    },
    {
     "name": "stdout",
     "output_type": "stream",
     "text": [
      "Float Div = 2.4516129032258065\n"
     ]
    }
   ],
   "source": [
    "a=int(input(\"a=\"))\n",
    "b=int(input(\"b=\"))\n",
    "p=a/b\n",
    "print(\"Float Div =\",p)"
   ]
  },
  {
   "cell_type": "code",
   "execution_count": 16,
   "id": "c8a2a143-00dd-41f0-b025-344116f04233",
   "metadata": {},
   "outputs": [
    {
     "name": "stdin",
     "output_type": "stream",
     "text": [
      "a= 76\n",
      "b= 31\n"
     ]
    },
    {
     "name": "stdout",
     "output_type": "stream",
     "text": [
      "Floor Div = 2\n"
     ]
    }
   ],
   "source": [
    "a=int(input(\"a=\"))\n",
    "b=int(input(\"b=\"))\n",
    "p=a//b\n",
    "print(\"Floor Div =\",p)"
   ]
  },
  {
   "cell_type": "code",
   "execution_count": 17,
   "id": "3cba6b66-b955-444c-a711-2fba7350f0fa",
   "metadata": {},
   "outputs": [
    {
     "name": "stdin",
     "output_type": "stream",
     "text": [
      "a= 76\n",
      "b= 31\n"
     ]
    },
    {
     "name": "stdout",
     "output_type": "stream",
     "text": [
      "Modulo = 14\n"
     ]
    }
   ],
   "source": [
    "a=int(input(\"a=\"))\n",
    "b=int(input(\"b=\"))\n",
    "p=a%b\n",
    "print(\"Modulo =\",p)"
   ]
  },
  {
   "cell_type": "code",
   "execution_count": 8,
   "id": "b671b362-0280-4c42-9ae9-3b54cb79ac9d",
   "metadata": {},
   "outputs": [
    {
     "name": "stdin",
     "output_type": "stream",
     "text": [
      "a= 4\n",
      "b= 4\n"
     ]
    },
    {
     "name": "stdout",
     "output_type": "stream",
     "text": [
      "power= 256\n"
     ]
    }
   ],
   "source": [
    "a=int(input(\"a=\"))\n",
    "b=int(input(\"b=\"))\n",
    "p=a**b\n",
    "print(\"power=\",p)"
   ]
  },
  {
   "cell_type": "code",
   "execution_count": null,
   "id": "a7d58e76-2cee-453d-981b-a99a6f48e534",
   "metadata": {},
   "outputs": [],
   "source": []
  }
 ],
 "metadata": {
  "kernelspec": {
   "display_name": "Python 3 (ipykernel)",
   "language": "python",
   "name": "python3"
  },
  "language_info": {
   "codemirror_mode": {
    "name": "ipython",
    "version": 3
   },
   "file_extension": ".py",
   "mimetype": "text/x-python",
   "name": "python",
   "nbconvert_exporter": "python",
   "pygments_lexer": "ipython3",
   "version": "3.12.4"
  }
 },
 "nbformat": 4,
 "nbformat_minor": 5
}
