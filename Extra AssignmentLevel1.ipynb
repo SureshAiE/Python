{
 "cells": [
  {
   "cell_type": "code",
   "execution_count": 2,
   "id": "9678a0a5-326a-4619-a70f-346fd4748e5e",
   "metadata": {},
   "outputs": [
    {
     "name": "stdout",
     "output_type": "stream",
     "text": [
      "HOPE AI\n"
     ]
    }
   ],
   "source": [
    "print(\"HOPE AI\")"
   ]
  },
  {
   "cell_type": "code",
   "execution_count": 3,
   "id": "97ee4c1c-9383-412e-89bd-4f1eaa5dd5ee",
   "metadata": {},
   "outputs": [
    {
     "name": "stdin",
     "output_type": "stream",
     "text": [
      "Enter Your Institute Name? HOPE AI\n"
     ]
    },
    {
     "data": {
      "text/plain": [
       "'HOPE AI'"
      ]
     },
     "execution_count": 3,
     "metadata": {},
     "output_type": "execute_result"
    }
   ],
   "source": [
    "input(\"Enter Your Institute Name?\")"
   ]
  },
  {
   "cell_type": "code",
   "execution_count": 6,
   "id": "13d1c4a4-bc76-496b-afc3-09dc9785e893",
   "metadata": {},
   "outputs": [
    {
     "name": "stdin",
     "output_type": "stream",
     "text": [
      "Enter Your Name: Raj\n",
      "Enter Your Age: 15\n",
      "Enter Your School Name: Guru School\n",
      "Enter Your Degree: B.E CSE\n"
     ]
    },
    {
     "data": {
      "text/plain": [
       "'B.E CSE'"
      ]
     },
     "execution_count": 6,
     "metadata": {},
     "output_type": "execute_result"
    }
   ],
   "source": [
    "input(\"Enter Your Name:\")\n",
    "int(input(\"Enter Your Age:\"))\n",
    "input(\"Enter Your School Name:\")\n",
    "input(\"Enter Your Degree:\")"
   ]
  },
  {
   "cell_type": "code",
   "execution_count": 7,
   "id": "fb223c0d-2e3b-47fd-a540-8b322e2c1ad0",
   "metadata": {},
   "outputs": [],
   "source": [
    "a=43\n",
    "b=34"
   ]
  },
  {
   "cell_type": "code",
   "execution_count": 8,
   "id": "64f6112f-3460-4a61-8993-8ecd52003223",
   "metadata": {},
   "outputs": [],
   "source": [
    "add=a+b"
   ]
  },
  {
   "cell_type": "code",
   "execution_count": 9,
   "id": "0fbee35c-3880-4ad4-a384-37f60ddb11ca",
   "metadata": {},
   "outputs": [
    {
     "name": "stdout",
     "output_type": "stream",
     "text": [
      "77\n"
     ]
    }
   ],
   "source": [
    "print(add)"
   ]
  },
  {
   "cell_type": "code",
   "execution_count": 10,
   "id": "a4e4b53a-22ba-4fee-b992-83f058f0dcfe",
   "metadata": {},
   "outputs": [],
   "source": [
    "sub=a-b"
   ]
  },
  {
   "cell_type": "code",
   "execution_count": 11,
   "id": "8fa543ce-cad9-47b0-998f-e378a55af7b4",
   "metadata": {},
   "outputs": [
    {
     "name": "stdout",
     "output_type": "stream",
     "text": [
      "9\n"
     ]
    }
   ],
   "source": [
    "print(sub)"
   ]
  },
  {
   "cell_type": "code",
   "execution_count": 12,
   "id": "e7e56b99-e7a7-44c2-88a6-dd01722c1d67",
   "metadata": {},
   "outputs": [],
   "source": [
    "a=63\n",
    "b=97"
   ]
  },
  {
   "cell_type": "code",
   "execution_count": 13,
   "id": "a5852f06-3493-4d54-b573-e72ae01b11cf",
   "metadata": {},
   "outputs": [],
   "source": [
    "mul=a*b"
   ]
  },
  {
   "cell_type": "code",
   "execution_count": 17,
   "id": "2672c63d-27fb-4037-9392-de5a7e3ee606",
   "metadata": {},
   "outputs": [
    {
     "name": "stdout",
     "output_type": "stream",
     "text": [
      "6111\n"
     ]
    }
   ],
   "source": [
    "print(mul)"
   ]
  },
  {
   "cell_type": "code",
   "execution_count": 15,
   "id": "dc50fffc-32d2-4080-8c80-f4199bde2ef6",
   "metadata": {},
   "outputs": [],
   "source": [
    "a=76\n",
    "b=31"
   ]
  },
  {
   "cell_type": "code",
   "execution_count": 19,
   "id": "5421b63d-45c0-4ae2-8186-e2e548978272",
   "metadata": {},
   "outputs": [],
   "source": [
    "floatDiv=a/b"
   ]
  },
  {
   "cell_type": "code",
   "execution_count": 20,
   "id": "461ded71-91f5-4677-b38e-1d28865192ec",
   "metadata": {},
   "outputs": [
    {
     "name": "stdout",
     "output_type": "stream",
     "text": [
      "2.4516129032258065\n"
     ]
    }
   ],
   "source": [
    "print(floatDiv)"
   ]
  },
  {
   "cell_type": "code",
   "execution_count": 15,
   "id": "35a897b3-33ee-4f37-81b3-5260d9febbb9",
   "metadata": {},
   "outputs": [],
   "source": [
    "a=76\n",
    "b=31"
   ]
  },
  {
   "cell_type": "code",
   "execution_count": 28,
   "id": "42b01b4a-fe70-4c16-91df-5216ce5d807f",
   "metadata": {},
   "outputs": [],
   "source": [
    "floorDiv=a//b"
   ]
  },
  {
   "cell_type": "code",
   "execution_count": 29,
   "id": "c8a2a143-00dd-41f0-b025-344116f04233",
   "metadata": {},
   "outputs": [
    {
     "name": "stdout",
     "output_type": "stream",
     "text": [
      "2\n"
     ]
    }
   ],
   "source": [
    "print(floorDiv)"
   ]
  },
  {
   "cell_type": "code",
   "execution_count": 30,
   "id": "3cba6b66-b955-444c-a711-2fba7350f0fa",
   "metadata": {},
   "outputs": [],
   "source": [
    "modulo=a%b"
   ]
  },
  {
   "cell_type": "code",
   "execution_count": 31,
   "id": "23a758cd-073b-459e-bab9-325630baee51",
   "metadata": {},
   "outputs": [
    {
     "name": "stdout",
     "output_type": "stream",
     "text": [
      "14\n"
     ]
    }
   ],
   "source": [
    "print(modulo)"
   ]
  },
  {
   "cell_type": "code",
   "execution_count": 32,
   "id": "a7414203-2c9a-40b0-85a3-89ba34d64823",
   "metadata": {},
   "outputs": [],
   "source": [
    "a=4\n",
    "b=4"
   ]
  },
  {
   "cell_type": "code",
   "execution_count": 33,
   "id": "b671b362-0280-4c42-9ae9-3b54cb79ac9d",
   "metadata": {},
   "outputs": [],
   "source": [
    "power=4**4"
   ]
  },
  {
   "cell_type": "code",
   "execution_count": 34,
   "id": "4282cba4-3b30-4c75-8924-5a98a7723ea1",
   "metadata": {},
   "outputs": [
    {
     "name": "stdout",
     "output_type": "stream",
     "text": [
      "256\n"
     ]
    }
   ],
   "source": [
    "print(power)"
   ]
  },
  {
   "cell_type": "code",
   "execution_count": null,
   "id": "a7d58e76-2cee-453d-981b-a99a6f48e534",
   "metadata": {},
   "outputs": [],
   "source": []
  }
 ],
 "metadata": {
  "kernelspec": {
   "display_name": "Python 3 (ipykernel)",
   "language": "python",
   "name": "python3"
  },
  "language_info": {
   "codemirror_mode": {
    "name": "ipython",
    "version": 3
   },
   "file_extension": ".py",
   "mimetype": "text/x-python",
   "name": "python",
   "nbconvert_exporter": "python",
   "pygments_lexer": "ipython3",
   "version": "3.12.4"
  }
 },
 "nbformat": 4,
 "nbformat_minor": 5
}
